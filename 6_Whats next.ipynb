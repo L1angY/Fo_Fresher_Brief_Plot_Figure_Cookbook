{
 "cells": [
  {
   "cell_type": "raw",
   "source": [
    "本Cookbook仅仅提供了最常用的示例,不打算也不可能包罗万象,\n",
    "有关ProPlot的其他示例和教程,请参考由库作者提供的官方文档(https://proplot.readthedocs.io/en/latest/).\n",
    "有关format的所有设置,请参考(https://proplot.readthedocs.io/en/latest/configuration.html)"
   ],
   "metadata": {
    "collapsed": false,
    "pycharm": {
     "name": "#%% raw\n"
    }
   },
   "outputs": []
  },
  {
   "cell_type": "markdown",
   "source": [
    "## 在Supplementary Materials文件夹中提供了一些电子书,感兴趣的可以看看."
   ],
   "metadata": {
    "collapsed": false,
    "pycharm": {
     "name": "#%% md\n"
    }
   }
  },
  {
   "cell_type": "markdown",
   "source": [
    "# Anyway, Enjoy!!!!!!!!!!!!\n",
    "😁😁😁😘😘😘"
   ],
   "metadata": {
    "collapsed": false,
    "pycharm": {
     "name": "#%% md\n"
    }
   }
  },
  {
   "cell_type": "code",
   "execution_count": null,
   "outputs": [],
   "source": [],
   "metadata": {
    "collapsed": false,
    "pycharm": {
     "name": "#%%\n"
    }
   }
  }
 ],
 "metadata": {
  "kernelspec": {
   "display_name": "Python 3",
   "language": "python",
   "name": "python3"
  },
  "language_info": {
   "codemirror_mode": {
    "name": "ipython",
    "version": 2
   },
   "file_extension": ".py",
   "mimetype": "text/x-python",
   "name": "python",
   "nbconvert_exporter": "python",
   "pygments_lexer": "ipython2",
   "version": "2.7.6"
  }
 },
 "nbformat": 4,
 "nbformat_minor": 0
}